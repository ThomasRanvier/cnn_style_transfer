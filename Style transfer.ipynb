{
 "cells": [
  {
   "cell_type": "markdown",
   "metadata": {},
   "source": [
    "# Style transfer"
   ]
  },
  {
   "cell_type": "code",
   "execution_count": 1,
   "metadata": {},
   "outputs": [],
   "source": [
    "from stylizer import render_image"
   ]
  },
  {
   "cell_type": "code",
   "execution_count": null,
   "metadata": {},
   "outputs": [
    {
     "name": "stdout",
     "output_type": "stream",
     "text": [
      "\n",
      "---- RENDERING SINGLE IMAGE ----\n",
      "\n",
      "\n",
      "BUILDING VGG-19 NETWORK\n",
      "loading model weights...\n",
      "constructing layers...\n",
      "WARNING:tensorflow:From /usr/local/lib/python3.5/dist-packages/tensorflow/python/framework/op_def_library.py:263: colocate_with (from tensorflow.python.framework.ops) is deprecated and will be removed in a future version.\n",
      "Instructions for updating:\n",
      "Colocations handled automatically by placer.\n",
      "LAYER GROUP 1\n",
      "--conv1_1 | shape=(1, 1654, 1654, 64) | weights_shape=(3, 3, 3, 64)\n",
      "--relu1_1 | shape=(1, 1654, 1654, 64) | bias_shape=(64,)\n",
      "--conv1_2 | shape=(1, 1654, 1654, 64) | weights_shape=(3, 3, 64, 64)\n",
      "--relu1_2 | shape=(1, 1654, 1654, 64) | bias_shape=(64,)\n",
      "--pool1   | shape=(1, 827, 827, 64)\n",
      "LAYER GROUP 2\n",
      "--conv2_1 | shape=(1, 827, 827, 128) | weights_shape=(3, 3, 64, 128)\n",
      "--relu2_1 | shape=(1, 827, 827, 128) | bias_shape=(128,)\n",
      "--conv2_2 | shape=(1, 827, 827, 128) | weights_shape=(3, 3, 128, 128)\n",
      "--relu2_2 | shape=(1, 827, 827, 128) | bias_shape=(128,)\n",
      "--pool2   | shape=(1, 414, 414, 128)\n",
      "LAYER GROUP 3\n",
      "--conv3_1 | shape=(1, 414, 414, 256) | weights_shape=(3, 3, 128, 256)\n",
      "--relu3_1 | shape=(1, 414, 414, 256) | bias_shape=(256,)\n",
      "--conv3_2 | shape=(1, 414, 414, 256) | weights_shape=(3, 3, 256, 256)\n",
      "--relu3_2 | shape=(1, 414, 414, 256) | bias_shape=(256,)\n",
      "--conv3_3 | shape=(1, 414, 414, 256) | weights_shape=(3, 3, 256, 256)\n",
      "--relu3_3 | shape=(1, 414, 414, 256) | bias_shape=(256,)\n",
      "--conv3_4 | shape=(1, 414, 414, 256) | weights_shape=(3, 3, 256, 256)\n",
      "--relu3_4 | shape=(1, 414, 414, 256) | bias_shape=(256,)\n",
      "--pool3   | shape=(1, 207, 207, 256)\n",
      "LAYER GROUP 4\n",
      "--conv4_1 | shape=(1, 207, 207, 512) | weights_shape=(3, 3, 256, 512)\n",
      "--relu4_1 | shape=(1, 207, 207, 512) | bias_shape=(512,)\n",
      "--conv4_2 | shape=(1, 207, 207, 512) | weights_shape=(3, 3, 512, 512)\n",
      "--relu4_2 | shape=(1, 207, 207, 512) | bias_shape=(512,)\n",
      "--conv4_3 | shape=(1, 207, 207, 512) | weights_shape=(3, 3, 512, 512)\n",
      "--relu4_3 | shape=(1, 207, 207, 512) | bias_shape=(512,)\n",
      "--conv4_4 | shape=(1, 207, 207, 512) | weights_shape=(3, 3, 512, 512)\n",
      "--relu4_4 | shape=(1, 207, 207, 512) | bias_shape=(512,)\n",
      "--pool4   | shape=(1, 104, 104, 512)\n",
      "LAYER GROUP 5\n",
      "--conv5_1 | shape=(1, 104, 104, 512) | weights_shape=(3, 3, 512, 512)\n",
      "--relu5_1 | shape=(1, 104, 104, 512) | bias_shape=(512,)\n",
      "--conv5_2 | shape=(1, 104, 104, 512) | weights_shape=(3, 3, 512, 512)\n",
      "--relu5_2 | shape=(1, 104, 104, 512) | bias_shape=(512,)\n",
      "--conv5_3 | shape=(1, 104, 104, 512) | weights_shape=(3, 3, 512, 512)\n",
      "--relu5_3 | shape=(1, 104, 104, 512) | bias_shape=(512,)\n",
      "--conv5_4 | shape=(1, 104, 104, 512) | weights_shape=(3, 3, 512, 512)\n",
      "--relu5_4 | shape=(1, 104, 104, 512) | bias_shape=(512,)\n",
      "--pool5   | shape=(1, 52, 52, 512)\n",
      "\n",
      "MINIMIZING LOSS USING: ADAM OPTIMIZER\n",
      "WARNING:tensorflow:From /usr/local/lib/python3.5/dist-packages/tensorflow/python/ops/math_ops.py:3066: to_int32 (from tensorflow.python.ops.math_ops) is deprecated and will be removed in a future version.\n",
      "Instructions for updating:\n",
      "Use tf.cast instead.\n",
      "At iterate 0\tf=  [7.3510124e+09]\n",
      "At iterate 50\tf=  [1.4019836e+09]\n",
      "At iterate 100\tf=  [4.332401e+08]\n",
      "At iterate 150\tf=  [1.4479461e+08]\n",
      "At iterate 200\tf=  [86992510.]\n",
      "At iterate 250\tf=  [68216070.]\n",
      "At iterate 300\tf=  [58702716.]\n",
      "At iterate 350\tf=  [52468436.]\n",
      "At iterate 400\tf=  [47866276.]\n",
      "At iterate 450\tf=  [44245804.]\n",
      "At iterate 500\tf=  [41290280.]\n",
      "At iterate 550\tf=  [38810304.]\n",
      "At iterate 600\tf=  [36683100.]\n",
      "At iterate 650\tf=  [34826830.]\n"
     ]
    }
   ],
   "source": [
    "render_image('lion.jpg', ['kandinsky.jpg'])"
   ]
  },
  {
   "cell_type": "code",
   "execution_count": null,
   "metadata": {},
   "outputs": [],
   "source": []
  },
  {
   "cell_type": "code",
   "execution_count": null,
   "metadata": {},
   "outputs": [],
   "source": []
  },
  {
   "cell_type": "code",
   "execution_count": null,
   "metadata": {},
   "outputs": [],
   "source": []
  },
  {
   "cell_type": "code",
   "execution_count": null,
   "metadata": {},
   "outputs": [],
   "source": []
  },
  {
   "cell_type": "code",
   "execution_count": null,
   "metadata": {},
   "outputs": [],
   "source": []
  },
  {
   "cell_type": "code",
   "execution_count": null,
   "metadata": {},
   "outputs": [],
   "source": []
  }
 ],
 "metadata": {
  "kernelspec": {
   "display_name": "Python 3",
   "language": "python",
   "name": "python3"
  },
  "language_info": {
   "codemirror_mode": {
    "name": "ipython",
    "version": 3
   },
   "file_extension": ".py",
   "mimetype": "text/x-python",
   "name": "python",
   "nbconvert_exporter": "python",
   "pygments_lexer": "ipython3",
   "version": "3.5.3"
  }
 },
 "nbformat": 4,
 "nbformat_minor": 2
}

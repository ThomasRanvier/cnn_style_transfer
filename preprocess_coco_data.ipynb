{
 "cells": [
  {
   "cell_type": "code",
   "execution_count": 1,
   "metadata": {},
   "outputs": [],
   "source": [
    "import os\n",
    "from PIL import Image"
   ]
  },
  {
   "cell_type": "markdown",
   "metadata": {},
   "source": [
    "#### Move away all grayscaled images"
   ]
  },
  {
   "cell_type": "code",
   "execution_count": 2,
   "metadata": {},
   "outputs": [],
   "source": [
    "root = 'data/coco_data'\n",
    "target = 'data/coco_grayscales'\n",
    "filenames = os.listdir(root)\n",
    "for i, filename in enumerate(filenames):\n",
    "    image = Image.open(os.path.join(root, filename))\n",
    "    image_mode = image.mode\n",
    "    image.close()\n",
    "    if image_mode != 'RGB':\n",
    "        os.rename(os.path.join(root, filename), os.path.join(target, filename))"
   ]
  },
  {
   "cell_type": "markdown",
   "metadata": {},
   "source": [
    "#### Check that there remains no grayscale images in the first 100, (before cleaning: {'RGB': 99, 'L': 1})"
   ]
  },
  {
   "cell_type": "code",
   "execution_count": 3,
   "metadata": {},
   "outputs": [
    {
     "name": "stdout",
     "output_type": "stream",
     "text": [
      "{'RGB': 100}\n"
     ]
    }
   ],
   "source": [
    "filenames = os.listdir(root)\n",
    "modes = {}\n",
    "for i, filename in enumerate(filenames):\n",
    "    image = Image.open(os.path.join(root, filename))\n",
    "    if image.mode in modes:\n",
    "        modes[image.mode] += 1\n",
    "    else:\n",
    "        modes[image.mode] = 1\n",
    "    if i >= 99:\n",
    "        break\n",
    "print(modes)"
   ]
  }
 ],
 "metadata": {
  "kernelspec": {
   "display_name": "Python 3",
   "language": "python",
   "name": "python3"
  },
  "language_info": {
   "codemirror_mode": {
    "name": "ipython",
    "version": 3
   },
   "file_extension": ".py",
   "mimetype": "text/x-python",
   "name": "python",
   "nbconvert_exporter": "python",
   "pygments_lexer": "ipython3",
   "version": "3.7.4"
  }
 },
 "nbformat": 4,
 "nbformat_minor": 2
}

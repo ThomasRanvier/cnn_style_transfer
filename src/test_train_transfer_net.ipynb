{
 "cells": [
  {
   "cell_type": "markdown",
   "metadata": {},
   "source": [
    "Script launched with a break in the logging loop just to test if it works well"
   ]
  },
  {
   "cell_type": "code",
   "execution_count": 2,
   "metadata": {},
   "outputs": [
    {
     "name": "stdout",
     "output_type": "stream",
     "text": [
      "#------------#\n",
      "Training start\n",
      "#------------#\n",
      "0.00h Epoch 1 starts\n",
      "0.00h Epoch 1: [12/82612] content: 1777303.7917 style: 41731427.8333 total: 43508731.6250\n",
      "0.00h Epoch 1 over\n",
      "\n",
      "#-----------#\n",
      "Training over\n",
      "#-----------#\n",
      "Total runtime: 0.00 hours\n"
     ]
    }
   ],
   "source": [
    "!python train.py -i 3 -li 3  \\\n",
    "--train-dataset-path ../data/coco_data \\\n",
    "--style-image-path ../data/styles/sketch.jpg \\\n",
    "--trained-models-dir ../outputs/trained_transfer_models"
   ]
  }
 ],
 "metadata": {
  "kernelspec": {
   "display_name": "Python 3",
   "language": "python",
   "name": "python3"
  },
  "language_info": {
   "codemirror_mode": {
    "name": "ipython",
    "version": 3
   },
   "file_extension": ".py",
   "mimetype": "text/x-python",
   "name": "python",
   "nbconvert_exporter": "python",
   "pygments_lexer": "ipython3",
   "version": "3.7.4"
  }
 },
 "nbformat": 4,
 "nbformat_minor": 2
}

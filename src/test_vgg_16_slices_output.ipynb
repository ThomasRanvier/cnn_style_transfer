{
 "cells": [
  {
   "cell_type": "code",
   "execution_count": 1,
   "metadata": {},
   "outputs": [],
   "source": [
    "import torch\n",
    "from vgg import Vgg16\n",
    "from coco_dataset import CocoDataset"
   ]
  },
  {
   "cell_type": "markdown",
   "metadata": {},
   "source": [
    "#### Load the custom VGG-16 model"
   ]
  },
  {
   "cell_type": "code",
   "execution_count": 2,
   "metadata": {},
   "outputs": [],
   "source": [
    "vgg16 = Vgg16()"
   ]
  },
  {
   "cell_type": "markdown",
   "metadata": {},
   "source": [
    "#### Load the fake dataset with only one image of a dog inside"
   ]
  },
  {
   "cell_type": "code",
   "execution_count": 3,
   "metadata": {},
   "outputs": [],
   "source": [
    "coco = CocoDataset('../data/contents')"
   ]
  },
  {
   "cell_type": "markdown",
   "metadata": {},
   "source": [
    "#### Get the model output"
   ]
  },
  {
   "cell_type": "code",
   "execution_count": 4,
   "metadata": {},
   "outputs": [],
   "source": [
    "output = vgg16(coco[0].unsqueeze(0))"
   ]
  },
  {
   "cell_type": "code",
   "execution_count": 7,
   "metadata": {},
   "outputs": [
    {
     "name": "stdout",
     "output_type": "stream",
     "text": [
      "relu1_2 (4, 64, 224, 224)\n",
      "relu2_2 (4, 128, 112, 112)\n",
      "relu3_3 (4, 256, 56, 56)\n",
      "relu4_3 (4, 512, 28, 28)\n"
     ]
    }
   ],
   "source": [
    "for key, value in output.items():\n",
    "    print(key, value.numpy().shape)"
   ]
  },
  {
   "cell_type": "markdown",
   "metadata": {},
   "source": [
    "#### Same on the first few images of the real dataset, using a dataloader"
   ]
  },
  {
   "cell_type": "code",
   "execution_count": 8,
   "metadata": {},
   "outputs": [
    {
     "name": "stdout",
     "output_type": "stream",
     "text": [
      "relu1_2 (4, 64, 224, 224)\n",
      "relu2_2 (4, 128, 112, 112)\n",
      "relu3_3 (4, 256, 56, 56)\n",
      "relu4_3 (4, 512, 28, 28)\n",
      "relu1_2 (4, 64, 224, 224)\n",
      "relu2_2 (4, 128, 112, 112)\n",
      "relu3_3 (4, 256, 56, 56)\n",
      "relu4_3 (4, 512, 28, 28)\n",
      "relu1_2 (4, 64, 224, 224)\n",
      "relu2_2 (4, 128, 112, 112)\n",
      "relu3_3 (4, 256, 56, 56)\n",
      "relu4_3 (4, 512, 28, 28)\n",
      "relu1_2 (4, 64, 224, 224)\n",
      "relu2_2 (4, 128, 112, 112)\n",
      "relu3_3 (4, 256, 56, 56)\n",
      "relu4_3 (4, 512, 28, 28)\n"
     ]
    }
   ],
   "source": [
    "coco = CocoDataset('../data/coco_data')\n",
    "data_loader = torch.utils.data.DataLoader(coco, batch_size=4, shuffle=True)\n",
    "one_batch_images = next(iter(data_loader))\n",
    "outputs = vgg16(one_batch_images)\n",
    "for output in outputs:\n",
    "    for key, value in outputs.items():\n",
    "        print(key, value.numpy().shape)"
   ]
  }
 ],
 "metadata": {
  "kernelspec": {
   "display_name": "Python 3",
   "language": "python",
   "name": "python3"
  },
  "language_info": {
   "codemirror_mode": {
    "name": "ipython",
    "version": 3
   },
   "file_extension": ".py",
   "mimetype": "text/x-python",
   "name": "python",
   "nbconvert_exporter": "python",
   "pygments_lexer": "ipython3",
   "version": "3.7.4"
  }
 },
 "nbformat": 4,
 "nbformat_minor": 2
}

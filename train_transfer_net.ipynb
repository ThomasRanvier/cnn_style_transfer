{
 "cells": [
  {
   "cell_type": "markdown",
   "metadata": {},
   "source": [
    "Script launched with a break in the logging loop just to test if it works well"
   ]
  },
  {
   "cell_type": "code",
   "execution_count": 1,
   "metadata": {},
   "outputs": [
    {
     "name": "stdout",
     "output_type": "stream",
     "text": [
      "#------------#Training start#------------#0.00h Epoch 1 starts\n",
      "0.00h Epoch 1: [28/82612] content: 1599228.0357 style: 14681472.5357 total: 16280700.5714\n",
      "0.00h Epoch 1 over\n",
      "the_starry_night_1.pth saved in outputs/trained_transfer_models\n",
      "\n",
      "0.00h Epoch 2 starts\n",
      "0.00h Epoch 2: [28/82612] content: 1413650.2857 style: 3633181.5357 total: 5046831.8214\n",
      "0.00h Epoch 2 over\n",
      "the_starry_night_2.pth saved in outputs/trained_transfer_models\n",
      "\n",
      "#-----------#\n",
      "Training over\n",
      "#-----------#\n",
      "Total runtime: 0.00 hours\n"
     ]
    }
   ],
   "source": [
    "!python src/train.py --log-interval 7"
   ]
  }
 ],
 "metadata": {
  "kernelspec": {
   "display_name": "Python 3",
   "language": "python",
   "name": "python3"
  },
  "language_info": {
   "codemirror_mode": {
    "name": "ipython",
    "version": 3
   },
   "file_extension": ".py",
   "mimetype": "text/x-python",
   "name": "python",
   "nbconvert_exporter": "python",
   "pygments_lexer": "ipython3",
   "version": "3.7.4"
  }
 },
 "nbformat": 4,
 "nbformat_minor": 2
}
